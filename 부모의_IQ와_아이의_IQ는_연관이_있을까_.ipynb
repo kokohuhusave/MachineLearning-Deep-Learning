{
  "nbformat": 4,
  "nbformat_minor": 0,
  "metadata": {
    "colab": {
      "provenance": []
    },
    "kernelspec": {
      "name": "python3",
      "display_name": "Python 3"
    },
    "language_info": {
      "name": "python"
    }
  },
  "cells": [
    {
      "cell_type": "code",
      "execution_count": null,
      "metadata": {
        "id": "fa-anj_MEErW"
      },
      "outputs": [],
      "source": [
        "# 1. 필요한 모듈을 모두 여기에 기술하세요\n",
        "# 2점"
      ]
    },
    {
      "cell_type": "code",
      "source": [
        "from google.colab import drive\n",
        "drive.mount('/content/drive')"
      ],
      "metadata": {
        "id": "St2aHTjJErIH",
        "outputId": "8224a6c8-746e-40b2-e8a7-5bbc16e1a679",
        "colab": {
          "base_uri": "https://localhost:8080/"
        }
      },
      "execution_count": 1,
      "outputs": [
        {
          "output_type": "stream",
          "name": "stdout",
          "text": [
            "Mounted at /content/drive\n"
          ]
        }
      ]
    },
    {
      "cell_type": "code",
      "source": [
        "# 2. 데이터를 읽어 데이터프레임으로 저장하세요\n",
        "# 2점"
      ],
      "metadata": {
        "id": "RYJgl-MtEuAN"
      },
      "execution_count": null,
      "outputs": []
    },
    {
      "cell_type": "markdown",
      "source": [
        "> **데이터 살펴보기**\n",
        "\n",
        "|Column|Description|\n",
        "|:---|:---|\n",
        "|kid_score|아이의 시험 점수|\n",
        "|mom_hs|엄마의 학력|\n",
        "|mom_iq|엄마의 IQ|\n",
        "|mom_work|엄마의 일하는 시간|\n",
        "|mom_age|엄마의 나이|"
      ],
      "metadata": {
        "id": "hVMnoNzoVBQE"
      }
    },
    {
      "cell_type": "code",
      "source": [
        "# 3. info() 메소드를 사용하여 데이터를 살펴보고 해당 데이터의 특징을 간단하게 적어보세요\n",
        "# 2점"
      ],
      "metadata": {
        "id": "ODr-13QPFKpg"
      },
      "execution_count": null,
      "outputs": []
    },
    {
      "cell_type": "code",
      "source": [
        "# 4. 데이터프레임의 차원을 확인하세요\n",
        "# 2점"
      ],
      "metadata": {
        "id": "rY7-GXL5FktE"
      },
      "execution_count": null,
      "outputs": []
    },
    {
      "cell_type": "code",
      "source": [
        "# 5. 결측치 데이터가 있다면 모두 삭제하세요\n",
        "# 단, 없어도 삭제 코드를 작성하고 실행하세요\n",
        "# 2점"
      ],
      "metadata": {
        "id": "MUmP9wqDFq8W"
      },
      "execution_count": null,
      "outputs": []
    },
    {
      "cell_type": "code",
      "source": [
        "# 6. describe() 메소드를 사용하여 데이터 통계정보를 확인하고 해당 데이터의 특징을 간단하게 적어보세요\n",
        "# 2점"
      ],
      "metadata": {
        "id": "coMFJRHvFx6Y"
      },
      "execution_count": null,
      "outputs": []
    },
    {
      "cell_type": "code",
      "source": [
        "# 7. 아래 내용을 확인하고 컬럼을 추가하세요.\n",
        "# mom_iq_c: 엄마의 전체 IQ평균에서 해당 데이터의 엄마의 IQ의 차를 구해 변수로 만드세요\n",
        "# mom_age_c: 엄마의 전체 나이평균에서 해당 데이터의 엄마의 나이의 차를 구해 변수로 만드세요\n",
        "# 2점"
      ],
      "metadata": {
        "id": "T78Q8rlpF6Jq"
      },
      "execution_count": null,
      "outputs": []
    },
    {
      "cell_type": "code",
      "source": [
        "# 8. 모든 변수에 대해 hist 그래프를 만들고 각 그래프에 따라 insight를 간단히 적어보세요\n",
        "# 2점"
      ],
      "metadata": {
        "id": "VUlx7YPDF9qW"
      },
      "execution_count": null,
      "outputs": []
    },
    {
      "cell_type": "code",
      "source": [
        "# 9. 독립변수들을 변수 X에 저장하세요\n",
        "# 2점"
      ],
      "metadata": {
        "id": "Utc4G_N0T21q"
      },
      "execution_count": null,
      "outputs": []
    },
    {
      "cell_type": "code",
      "source": [
        "# 10. 종속변수를 y에 저장하세요\n",
        "# 2점"
      ],
      "metadata": {
        "id": "r3OSOMOdUM0d"
      },
      "execution_count": null,
      "outputs": []
    },
    {
      "cell_type": "code",
      "source": [
        "# 11. LinearRegression에 대해 간단히 설명하고 독립변수와 종속변수를 넣고 학습하세요\n",
        "# 3점"
      ],
      "metadata": {
        "id": "ur0-L_S0UPOe"
      },
      "execution_count": null,
      "outputs": []
    },
    {
      "cell_type": "code",
      "source": [
        "# 12. 위 학습된 모델의 W, b, RMSE를 구하세요\n",
        "# 3점"
      ],
      "metadata": {
        "id": "oq3M6p4nefDi"
      },
      "execution_count": null,
      "outputs": []
    },
    {
      "cell_type": "code",
      "source": [
        "# 13. RandomizedSearchCV를 통해 최적의 하이퍼 파라미터를 찾아 W, b, RMSE를 구하세요\n",
        "# 3점"
      ],
      "metadata": {
        "id": "MnqdXJevafyM"
      },
      "execution_count": null,
      "outputs": []
    },
    {
      "cell_type": "code",
      "source": [
        "# 14. 위 결과의 w, b를 이용해 K-Fold(k=5)를 이용하여 RMSE의 평균 값을 확인하세요\n",
        "# 3점"
      ],
      "metadata": {
        "id": "m4UIP96uUUkZ"
      },
      "execution_count": null,
      "outputs": []
    },
    {
      "cell_type": "code",
      "source": [
        "# 15. 독립변수에 가중치(mom_hs * mem_iq_c) 변수를 추가하고 14번에 대해 다시 확인하세요\n",
        "# 3점"
      ],
      "metadata": {
        "id": "vaz-bkY8ex13"
      },
      "execution_count": null,
      "outputs": []
    },
    {
      "cell_type": "code",
      "source": [
        "# 16. 14번, 15번에 대해 결과를 비교하고 다른 결과에 대해 설명하세요\n",
        "# 5점"
      ],
      "metadata": {
        "id": "EnrNUeTJggjn"
      },
      "execution_count": null,
      "outputs": []
    },
    {
      "cell_type": "code",
      "source": [
        "# 17. 테스트 데이터를 작성하여 모델에 데이터를 넣어보세요\n",
        "# 10점"
      ],
      "metadata": {
        "id": "x98653ExgAeB"
      },
      "execution_count": null,
      "outputs": []
    },
    {
      "cell_type": "code",
      "source": [
        "# 18. 위 결과에 대해 설명하고, 결론(부모의 IQ와 아이의 IQ는 연관이 있을까?)에 대해 결과를 시각적으로 표현하세요\n",
        "# 10점"
      ],
      "metadata": {
        "id": "tiwL_eetgLuy"
      },
      "execution_count": null,
      "outputs": []
    },
    {
      "cell_type": "code",
      "source": [
        "# 19. Cross validation은 어떨 때 유의미하게 사용할 수 있는지 설명하세요\n",
        "# 10점"
      ],
      "metadata": {
        "id": "gX7Icu6KUi34"
      },
      "execution_count": null,
      "outputs": []
    },
    {
      "cell_type": "code",
      "source": [
        "# 20. Cross validation 결과에서 특정 Fold에만 결과가 잘 나오는 경우 어떻게 처리해야 하는지 설명하세요\n",
        "# 10점"
      ],
      "metadata": {
        "id": "aHm-KvYXUlap"
      },
      "execution_count": null,
      "outputs": []
    }
  ]
}